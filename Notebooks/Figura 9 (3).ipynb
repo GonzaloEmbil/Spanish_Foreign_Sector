{
  "metadata": {
    "kernelspec": {
      "name": "python",
      "display_name": "Python (Pyodide)",
      "language": "python"
    },
    "language_info": {
      "codemirror_mode": {
        "name": "python",
        "version": 3
      },
      "file_extension": ".py",
      "mimetype": "text/x-python",
      "name": "python",
      "nbconvert_exporter": "python",
      "pygments_lexer": "ipython3",
      "version": "3.8"
    }
  },
  "nbformat_minor": 5,
  "nbformat": 4,
  "cells": [
    {
      "id": "d16e9060-82c7-4fe0-9ea9-02b45fa0f56c",
      "cell_type": "code",
      "source": "import pandas as pd\nimport numpy as np\nimport matplotlib.pyplot as plt\n\netiquetas = ['1940-1944', '1945-1949', '1950-1954', '1955-1959']\n\nReinoUnido = [22.1, 28.9, 20, 16.8]\nFrancia = [4.3, 4.1, 9, 7.6]\nAlemania = [25.8, 0.9, 10.3, 12.9]\nBenelux = [3.2, 7.2, 8.3, 6.8]\nItalia = [6.8, 3, 1.9, 3.2]\nEscandinavia = [3.6, 7.6, 7.6, 5.4]\nSuiza = [6.4, 6.3, 3.8, 4.4]\n\nco = np.arange(len(ReinoUnido))\nan = 0.1\n\nfig, ax = plt.subplots(figsize=(20,10))\n                       \nplt.bar(co - an - an - an, ReinoUnido, an, label='Reino Unido', color='#C8102E', zorder=4)\nplt.bar(co - an - an, Francia, an, label='Francia', color='#00249c', zorder=4)\nplt.bar(co - an, Alemania, an, label='Alemania', color='black', zorder=4)\nplt.bar(co, Benelux, an, label='Benelux', color='#FFCD00', zorder=4)\nplt.bar(co + an, Italia, an, label='Italia', color='#008C45', zorder=4)\nplt.bar(co + an + an, Escandinavia, an, label='Escandinavia', color='lightblue', zorder=4)\nplt.bar(co + an + an + an, Suiza, an, label='Suiza', color='grey', zorder=4)\n\nplt.grid(axis='x', alpha=0, linewidth=0.4, color='white', zorder=0)\nplt.grid(axis='y', alpha=0.25, linewidth=0.4, color='grey', zorder=0)\n\nax.tick_params(labelsize=15, colors='black', length=7.5, width=1, which='both')\nax.set_xticks(co)\nax.set_xticklabels(etiquetas)\n\nfig.text(0.513, 0.03, 'Años', ha='center', va='center', fontsize=25, color='black', weight='bold')\nfig.text(0.075, 0.5, '% de las exportaciones', rotation=90, ha='center', va='center', fontsize=25, color='black', weight='bold')\n\nlegend = ax.legend(borderaxespad=1, loc='upper right', fontsize=10, facecolor='white', edgecolor='black', borderpad=0.8)\nfor text in legend.get_texts():\n    text.set_fontweight(\"normal\")\n    text.set_color(\"black\")\n    text.set_fontsize(15)\n\nfig.savefig(\"Figura 9\", dpi=200, bbox_inches='tight', pad_inches=1)\n    \nplt.show()",
      "metadata": {
        "trusted": true
      },
      "outputs": [],
      "execution_count": null
    },
    {
      "id": "f67101f1-d788-4960-a28a-e88f40ed67d2",
      "cell_type": "code",
      "source": "",
      "metadata": {
        "trusted": true
      },
      "outputs": [],
      "execution_count": null
    }
  ]
}